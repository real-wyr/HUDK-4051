{
 "cells": [
  {
   "cell_type": "markdown",
   "id": "85471a2f",
   "metadata": {},
   "source": [
    "HUDK 4051\n",
    "\n",
    "Yiran Wang\n",
    "\n",
    "2022/04/20\n",
    "\n",
    "# ICE 3 Knowledge Inference"
   ]
  },
  {
   "cell_type": "markdown",
   "id": "d858b7b3",
   "metadata": {},
   "source": [
    "**Objectives:**\n",
    "\n",
    "- identify common knowledge inference (e.g., BTK, LTK, IRT) packages\n",
    "- fit a basic knowledge inference model to some student interaction data (e.g., BTK or IRT)."
   ]
  },
  {
   "cell_type": "markdown",
   "id": "dcffc1ba",
   "metadata": {},
   "source": [
    "## Basic Ideas Behind Knowledge Inference\n",
    "For several decades now, assessment has become an increasingly pressing educational priority. The purpose for the assessment technologies in learning is often to use a series of well-designed challenges/tasks/questions to infer students' mastery of knowledge or cognitive capacity in general. The task sounds simple, but we all have experienced things such as test anxiety, luck, slip, ect. during a test. So, the simplistic assessment model of adding everything up may not be a very good way to estimate one's knowledge. A lot of research in the educational world (not only LA/EDM but also psychometrics) has been done on this problem of evaluating whether a student knows or doesn't know something based on the data we can obtain -- hence knoweldge inference."
   ]
  },
  {
   "cell_type": "markdown",
   "id": "420f33ba",
   "metadata": {},
   "source": [
    "## Knowledge Tracing\n",
    "There are a lot of different types of knowledge inference models and one of the best-known model that's been used in the field of educational data mining is Knowledge Tracing. Knowledge tracing is a type of Latent knowledge estimation. But, why do we call it Latent Knowledge Estimation? Well, the reason why we use the word latent is because we have no way of actually directly observing whether a student knows something or not. We can't really well go and look at the student's brain to see if they have the right connection. And we can't really ask the student either because although some students are going to be really good at telling us what they do know and don't know, some other student might think that they know something but they don't actually, or they might not realize that they know something when they do know. And so, we need to assess or estimate something that can't be absurd and that's why we call it latent. So, we can't observe the knowledge itself, but what we can observe is whether the student is able to apply a knowledge component in a specific context. And this will give us indirect information about whether or not the student knows this knowledge component.\n",
    "\n",
    "The idea behind knowledge tracing is based of probablistic statistics: (a) What we want to infer is not definitively whether the student knows or not; what we want to infer the probablity of them knowing. And the probablity of knowing will impact the result of student answering a question correctly. (b) There are other factors that might impact the result (e.g., guessing, making a slip). So let's all include these in our knowledge tracing model. There are different implementation of knowledge tracing (e.g., Bayesian Knowledge Tracing, Logistic Knowledge Tracing) and here is a interactive module for you to learn more about BKT: https://www.cs.williams.edu/~iris/res/bkt-balloon/index.html#start\n",
    "\n",
    "Here is a thorough tutorial GitHub repo (data included) for BKT in Python by Badrinath et al. (2021). So I am not going to reinvent the wheel:\n",
    "- Quick start: https://colab.research.google.com/drive/13abu919edUXbvPV3qeGPpvwnFBExU7Vd\n",
    "- More comprehensive tutorial notebook: https://colab.research.google.com/drive/13abu919edUXbvPV3qeGPpvwnFBExU7Vd#scrollTo=qkiQ1CbrWbrQ"
   ]
  },
  {
   "cell_type": "markdown",
   "id": "20f80099",
   "metadata": {},
   "source": [
    "### pyBKT Model Tutorial\n",
    "This is a tutorial that explores the basic features of pyBKT, ranging from model creation, fitting, prediction, evaluation and crossvalidation. We will be using the skills contained within the Cognitive Tutor and 2009-2010 Assistments datasets to demonstrate these features."
   ]
  },
  {
   "cell_type": "code",
   "execution_count": 1,
   "id": "a309a76a",
   "metadata": {},
   "outputs": [
    {
     "name": "stdout",
     "output_type": "stream",
     "text": [
      "Requirement already satisfied: pyBKT in /Users/Wyr/opt/anaconda3/lib/python3.8/site-packages (1.4)\n",
      "Requirement already satisfied: pandas in /Users/Wyr/opt/anaconda3/lib/python3.8/site-packages (from pyBKT) (1.2.4)\n",
      "Requirement already satisfied: requests in /Users/Wyr/opt/anaconda3/lib/python3.8/site-packages (from pyBKT) (2.25.1)\n",
      "Requirement already satisfied: numpy in /Users/Wyr/opt/anaconda3/lib/python3.8/site-packages (from pyBKT) (1.20.1)\n",
      "Requirement already satisfied: sklearn in /Users/Wyr/opt/anaconda3/lib/python3.8/site-packages (from pyBKT) (0.0)\n",
      "Requirement already satisfied: python-dateutil>=2.7.3 in /Users/Wyr/opt/anaconda3/lib/python3.8/site-packages (from pandas->pyBKT) (2.8.1)\n",
      "Requirement already satisfied: pytz>=2017.3 in /Users/Wyr/opt/anaconda3/lib/python3.8/site-packages (from pandas->pyBKT) (2021.1)\n",
      "Requirement already satisfied: six>=1.5 in /Users/Wyr/opt/anaconda3/lib/python3.8/site-packages (from python-dateutil>=2.7.3->pandas->pyBKT) (1.15.0)\n",
      "Requirement already satisfied: idna<3,>=2.5 in /Users/Wyr/opt/anaconda3/lib/python3.8/site-packages (from requests->pyBKT) (2.10)\n",
      "Requirement already satisfied: chardet<5,>=3.0.2 in /Users/Wyr/opt/anaconda3/lib/python3.8/site-packages (from requests->pyBKT) (4.0.0)\n",
      "Requirement already satisfied: certifi>=2017.4.17 in /Users/Wyr/opt/anaconda3/lib/python3.8/site-packages (from requests->pyBKT) (2021.10.8)\n",
      "Requirement already satisfied: urllib3<1.27,>=1.21.1 in /Users/Wyr/opt/anaconda3/lib/python3.8/site-packages (from requests->pyBKT) (1.26.4)\n",
      "Requirement already satisfied: scikit-learn in /Users/Wyr/opt/anaconda3/lib/python3.8/site-packages (from sklearn->pyBKT) (0.24.2)\n",
      "Requirement already satisfied: threadpoolctl>=2.0.0 in /Users/Wyr/opt/anaconda3/lib/python3.8/site-packages (from scikit-learn->sklearn->pyBKT) (2.1.0)\n",
      "Requirement already satisfied: scipy>=0.19.1 in /Users/Wyr/opt/anaconda3/lib/python3.8/site-packages (from scikit-learn->sklearn->pyBKT) (1.6.2)\n",
      "Requirement already satisfied: joblib>=0.11 in /Users/Wyr/opt/anaconda3/lib/python3.8/site-packages (from scikit-learn->sklearn->pyBKT) (1.0.1)\n"
     ]
    }
   ],
   "source": [
    "# Install pyBKT from pip!\n",
    "!pip install pyBKT\n",
    "\n",
    "# Import all required packages including pyBKT.models.Model!\n",
    "import numpy as np\n",
    "import pandas as pd\n",
    "from pyBKT.models import Model\n",
    "import matplotlib.pyplot as plt"
   ]
  },
  {
   "cell_type": "markdown",
   "id": "f1a28aaf",
   "metadata": {},
   "source": [
    "#### Basic Model Creation and Evaluation\n",
    "Initialize the model with an optional seed and number of fit initializations. Note that the Model constructor supports many more parameters such as the model variant (which can be modified at fit time), whether to parallelize computation, and more."
   ]
  },
  {
   "cell_type": "code",
   "execution_count": 3,
   "id": "6eea1be3",
   "metadata": {},
   "outputs": [],
   "source": [
    "# Note that the seed chosen is so we can consistently\n",
    "# replicate the results and avoid as much randomness\n",
    "# as possible.\n",
    "model = Model(seed = 42, num_fits = 1)"
   ]
  },
  {
   "cell_type": "markdown",
   "id": "99bddfbb",
   "metadata": {},
   "source": [
    "Fetch Assistments and CognitiveTutor data to the local disk. We will be using these datasets, but you can use any that you see fit when you use pyBKT. The data formats accepted by pyBKT are comma separated and tab separated files (note that pyBKT will automatically infer which is passed in). Note that the correctness is given by -1 (no response), 0 (incorrect), or 1 (correct)."
   ]
  },
  {
   "cell_type": "code",
   "execution_count": 4,
   "id": "ee8cd049",
   "metadata": {},
   "outputs": [],
   "source": [
    "model.fetch_dataset('https://raw.githubusercontent.com/CAHLR/pyBKT-examples/master/data/as.csv', '.')\n",
    "model.fetch_dataset('https://raw.githubusercontent.com/CAHLR/pyBKT-examples/master/data/ct.csv', '.')"
   ]
  },
  {
   "cell_type": "markdown",
   "id": "8c54282c",
   "metadata": {},
   "source": [
    "We open the given datasets and explore them before using them to fit BKT models using pyBKT. Note that the column names describing the student ID, the problem name, the response's correctness and skill name all differ between the two datasets."
   ]
  },
  {
   "cell_type": "code",
   "execution_count": 5,
   "id": "02664bac",
   "metadata": {},
   "outputs": [
    {
     "name": "stdout",
     "output_type": "stream",
     "text": [
      "Index(['Unnamed: 0', 'Row', 'Anon Student Id', 'Problem Hierarchy',\n",
      "       'Problem Name', 'Problem View', 'Step Name', 'Step Start Time',\n",
      "       'First Transaction Time', 'Correct Transaction Time', 'Step End Time',\n",
      "       'Step Duration (sec)', 'Correct Step Duration (sec)',\n",
      "       'Error Step Duration (sec)', 'Correct First Attempt', 'Incorrects',\n",
      "       'Hints', 'Corrects', 'KC(Default)', 'Opportunity(Default)'],\n",
      "      dtype='object')\n"
     ]
    },
    {
     "data": {
      "text/html": [
       "<div>\n",
       "<style scoped>\n",
       "    .dataframe tbody tr th:only-of-type {\n",
       "        vertical-align: middle;\n",
       "    }\n",
       "\n",
       "    .dataframe tbody tr th {\n",
       "        vertical-align: top;\n",
       "    }\n",
       "\n",
       "    .dataframe thead th {\n",
       "        text-align: right;\n",
       "    }\n",
       "</style>\n",
       "<table border=\"1\" class=\"dataframe\">\n",
       "  <thead>\n",
       "    <tr style=\"text-align: right;\">\n",
       "      <th></th>\n",
       "      <th>Unnamed: 0</th>\n",
       "      <th>Row</th>\n",
       "      <th>Anon Student Id</th>\n",
       "      <th>Problem Hierarchy</th>\n",
       "      <th>Problem Name</th>\n",
       "      <th>Problem View</th>\n",
       "      <th>Step Name</th>\n",
       "      <th>Step Start Time</th>\n",
       "      <th>First Transaction Time</th>\n",
       "      <th>Correct Transaction Time</th>\n",
       "      <th>Step End Time</th>\n",
       "      <th>Step Duration (sec)</th>\n",
       "      <th>Correct Step Duration (sec)</th>\n",
       "      <th>Error Step Duration (sec)</th>\n",
       "      <th>Correct First Attempt</th>\n",
       "      <th>Incorrects</th>\n",
       "      <th>Hints</th>\n",
       "      <th>Corrects</th>\n",
       "      <th>KC(Default)</th>\n",
       "      <th>Opportunity(Default)</th>\n",
       "    </tr>\n",
       "  </thead>\n",
       "  <tbody>\n",
       "    <tr>\n",
       "      <th>0</th>\n",
       "      <td>1576</td>\n",
       "      <td>1927</td>\n",
       "      <td>745Yh</td>\n",
       "      <td>Unit RATIO-PROPORTION, Section RATIO-PROPORTION-2</td>\n",
       "      <td>RATIO2-001</td>\n",
       "      <td>1</td>\n",
       "      <td>SimplifiedNumeratorQuantity1</td>\n",
       "      <td>2006-11-14 10:18:00.0</td>\n",
       "      <td>2006-11-14 10:18:05.0</td>\n",
       "      <td>2006-11-14 10:18:05.0</td>\n",
       "      <td>2006-11-14 10:18:05.0</td>\n",
       "      <td>5.00000</td>\n",
       "      <td>5.00000</td>\n",
       "      <td>NaN</td>\n",
       "      <td>1</td>\n",
       "      <td>0</td>\n",
       "      <td>0</td>\n",
       "      <td>1</td>\n",
       "      <td>Calculate unit rate</td>\n",
       "      <td>1</td>\n",
       "    </tr>\n",
       "    <tr>\n",
       "      <th>1</th>\n",
       "      <td>1580</td>\n",
       "      <td>1931</td>\n",
       "      <td>745Yh</td>\n",
       "      <td>Unit RATIO-PROPORTION, Section RATIO-PROPORTION-2</td>\n",
       "      <td>RATIO2-001</td>\n",
       "      <td>1</td>\n",
       "      <td>SimplifiedNumeratorQuantity2</td>\n",
       "      <td>2006-11-14 10:18:11.0</td>\n",
       "      <td>2006-11-14 10:18:17.0</td>\n",
       "      <td>2006-11-14 10:18:34.0</td>\n",
       "      <td>2006-11-14 10:18:34.0</td>\n",
       "      <td>23.00000</td>\n",
       "      <td>NaN</td>\n",
       "      <td>23.00000</td>\n",
       "      <td>0</td>\n",
       "      <td>1</td>\n",
       "      <td>0</td>\n",
       "      <td>1</td>\n",
       "      <td>Calculate unit rate</td>\n",
       "      <td>2</td>\n",
       "    </tr>\n",
       "    <tr>\n",
       "      <th>2</th>\n",
       "      <td>1596</td>\n",
       "      <td>1947</td>\n",
       "      <td>745Yh</td>\n",
       "      <td>Unit RATIO-PROPORTION, Section RATIO-PROPORTION-2</td>\n",
       "      <td>RATIO2-012</td>\n",
       "      <td>1</td>\n",
       "      <td>SimplifiedNumeratorQuantity1</td>\n",
       "      <td>2006-11-14 10:50:52.0</td>\n",
       "      <td>2006-11-14 10:50:57.0</td>\n",
       "      <td>2006-11-14 10:51:11.0</td>\n",
       "      <td>2006-11-14 10:51:11.0</td>\n",
       "      <td>18.00000</td>\n",
       "      <td>NaN</td>\n",
       "      <td>18.00000</td>\n",
       "      <td>0</td>\n",
       "      <td>1</td>\n",
       "      <td>0</td>\n",
       "      <td>1</td>\n",
       "      <td>Calculate unit rate</td>\n",
       "      <td>3</td>\n",
       "    </tr>\n",
       "    <tr>\n",
       "      <th>3</th>\n",
       "      <td>1597</td>\n",
       "      <td>1948</td>\n",
       "      <td>745Yh</td>\n",
       "      <td>Unit RATIO-PROPORTION, Section RATIO-PROPORTION-2</td>\n",
       "      <td>RATIO2-012</td>\n",
       "      <td>1</td>\n",
       "      <td>SimplifiedNumeratorQuantity2</td>\n",
       "      <td>2006-11-14 10:51:11.0</td>\n",
       "      <td>2006-11-14 10:51:14.0</td>\n",
       "      <td>2006-11-14 10:51:14.0</td>\n",
       "      <td>2006-11-14 10:51:14.0</td>\n",
       "      <td>3.00000</td>\n",
       "      <td>3.00000</td>\n",
       "      <td>NaN</td>\n",
       "      <td>1</td>\n",
       "      <td>0</td>\n",
       "      <td>0</td>\n",
       "      <td>1</td>\n",
       "      <td>Calculate unit rate</td>\n",
       "      <td>4</td>\n",
       "    </tr>\n",
       "    <tr>\n",
       "      <th>4</th>\n",
       "      <td>1612</td>\n",
       "      <td>1963</td>\n",
       "      <td>745Yh</td>\n",
       "      <td>Unit RATIO-PROPORTION, Section RATIO-PROPORTION-2</td>\n",
       "      <td>RATIO2-054</td>\n",
       "      <td>1</td>\n",
       "      <td>SimplifiedNumeratorQuantity2</td>\n",
       "      <td>2006-11-28 09:53:43.0</td>\n",
       "      <td>2006-11-28 09:53:47.0</td>\n",
       "      <td>2006-11-28 09:53:56.0</td>\n",
       "      <td>2006-11-28 09:53:56.0</td>\n",
       "      <td>13.00000</td>\n",
       "      <td>NaN</td>\n",
       "      <td>13.00000</td>\n",
       "      <td>0</td>\n",
       "      <td>1</td>\n",
       "      <td>0</td>\n",
       "      <td>1</td>\n",
       "      <td>Calculate unit rate</td>\n",
       "      <td>5</td>\n",
       "    </tr>\n",
       "  </tbody>\n",
       "</table>\n",
       "</div>"
      ],
      "text/plain": [
       "   Unnamed: 0   Row Anon Student Id  \\\n",
       "0        1576  1927           745Yh   \n",
       "1        1580  1931           745Yh   \n",
       "2        1596  1947           745Yh   \n",
       "3        1597  1948           745Yh   \n",
       "4        1612  1963           745Yh   \n",
       "\n",
       "                                   Problem Hierarchy Problem Name  \\\n",
       "0  Unit RATIO-PROPORTION, Section RATIO-PROPORTION-2   RATIO2-001   \n",
       "1  Unit RATIO-PROPORTION, Section RATIO-PROPORTION-2   RATIO2-001   \n",
       "2  Unit RATIO-PROPORTION, Section RATIO-PROPORTION-2   RATIO2-012   \n",
       "3  Unit RATIO-PROPORTION, Section RATIO-PROPORTION-2   RATIO2-012   \n",
       "4  Unit RATIO-PROPORTION, Section RATIO-PROPORTION-2   RATIO2-054   \n",
       "\n",
       "   Problem View                     Step Name        Step Start Time  \\\n",
       "0             1  SimplifiedNumeratorQuantity1  2006-11-14 10:18:00.0   \n",
       "1             1  SimplifiedNumeratorQuantity2  2006-11-14 10:18:11.0   \n",
       "2             1  SimplifiedNumeratorQuantity1  2006-11-14 10:50:52.0   \n",
       "3             1  SimplifiedNumeratorQuantity2  2006-11-14 10:51:11.0   \n",
       "4             1  SimplifiedNumeratorQuantity2  2006-11-28 09:53:43.0   \n",
       "\n",
       "  First Transaction Time Correct Transaction Time          Step End Time  \\\n",
       "0  2006-11-14 10:18:05.0    2006-11-14 10:18:05.0  2006-11-14 10:18:05.0   \n",
       "1  2006-11-14 10:18:17.0    2006-11-14 10:18:34.0  2006-11-14 10:18:34.0   \n",
       "2  2006-11-14 10:50:57.0    2006-11-14 10:51:11.0  2006-11-14 10:51:11.0   \n",
       "3  2006-11-14 10:51:14.0    2006-11-14 10:51:14.0  2006-11-14 10:51:14.0   \n",
       "4  2006-11-28 09:53:47.0    2006-11-28 09:53:56.0  2006-11-28 09:53:56.0   \n",
       "\n",
       "   Step Duration (sec)  Correct Step Duration (sec)  \\\n",
       "0              5.00000                      5.00000   \n",
       "1             23.00000                          NaN   \n",
       "2             18.00000                          NaN   \n",
       "3              3.00000                      3.00000   \n",
       "4             13.00000                          NaN   \n",
       "\n",
       "   Error Step Duration (sec)  Correct First Attempt  Incorrects  Hints  \\\n",
       "0                        NaN                      1           0      0   \n",
       "1                   23.00000                      0           1      0   \n",
       "2                   18.00000                      0           1      0   \n",
       "3                        NaN                      1           0      0   \n",
       "4                   13.00000                      0           1      0   \n",
       "\n",
       "   Corrects          KC(Default)  Opportunity(Default)  \n",
       "0         1  Calculate unit rate                     1  \n",
       "1         1  Calculate unit rate                     2  \n",
       "2         1  Calculate unit rate                     3  \n",
       "3         1  Calculate unit rate                     4  \n",
       "4         1  Calculate unit rate                     5  "
      ]
     },
     "execution_count": 5,
     "metadata": {},
     "output_type": "execute_result"
    }
   ],
   "source": [
    "ct_df = pd.read_csv('ct.csv', encoding = 'latin')\n",
    "print(ct_df.columns)\n",
    "ct_df.head(5)"
   ]
  },
  {
   "cell_type": "code",
   "execution_count": 6,
   "id": "b5f0ad24",
   "metadata": {},
   "outputs": [
    {
     "name": "stdout",
     "output_type": "stream",
     "text": [
      "Index(['order_id', 'assignment_id', 'user_id', 'assistment_id', 'problem_id',\n",
      "       'original', 'correct', 'attempt_count', 'ms_first_response',\n",
      "       'tutor_mode', 'answer_type', 'sequence_id', 'student_class_id',\n",
      "       'position', 'type', 'base_sequence_id', 'skill_id', 'skill_name',\n",
      "       'teacher_id', 'school_id', 'hint_count', 'hint_total', 'overlap_time',\n",
      "       'template_id', 'answer_id', 'answer_text', 'first_action',\n",
      "       'bottom_hint', 'opportunity', 'opportunity_original'],\n",
      "      dtype='object')\n"
     ]
    },
    {
     "data": {
      "text/html": [
       "<div>\n",
       "<style scoped>\n",
       "    .dataframe tbody tr th:only-of-type {\n",
       "        vertical-align: middle;\n",
       "    }\n",
       "\n",
       "    .dataframe tbody tr th {\n",
       "        vertical-align: top;\n",
       "    }\n",
       "\n",
       "    .dataframe thead th {\n",
       "        text-align: right;\n",
       "    }\n",
       "</style>\n",
       "<table border=\"1\" class=\"dataframe\">\n",
       "  <thead>\n",
       "    <tr style=\"text-align: right;\">\n",
       "      <th></th>\n",
       "      <th>order_id</th>\n",
       "      <th>assignment_id</th>\n",
       "      <th>user_id</th>\n",
       "      <th>assistment_id</th>\n",
       "      <th>problem_id</th>\n",
       "      <th>original</th>\n",
       "      <th>correct</th>\n",
       "      <th>attempt_count</th>\n",
       "      <th>ms_first_response</th>\n",
       "      <th>tutor_mode</th>\n",
       "      <th>...</th>\n",
       "      <th>hint_count</th>\n",
       "      <th>hint_total</th>\n",
       "      <th>overlap_time</th>\n",
       "      <th>template_id</th>\n",
       "      <th>answer_id</th>\n",
       "      <th>answer_text</th>\n",
       "      <th>first_action</th>\n",
       "      <th>bottom_hint</th>\n",
       "      <th>opportunity</th>\n",
       "      <th>opportunity_original</th>\n",
       "    </tr>\n",
       "  </thead>\n",
       "  <tbody>\n",
       "    <tr>\n",
       "      <th>0</th>\n",
       "      <td>33022537</td>\n",
       "      <td>277618</td>\n",
       "      <td>64525</td>\n",
       "      <td>33139</td>\n",
       "      <td>51424</td>\n",
       "      <td>1</td>\n",
       "      <td>1</td>\n",
       "      <td>1</td>\n",
       "      <td>32454</td>\n",
       "      <td>tutor</td>\n",
       "      <td>...</td>\n",
       "      <td>0</td>\n",
       "      <td>3</td>\n",
       "      <td>32454</td>\n",
       "      <td>30799</td>\n",
       "      <td>NaN</td>\n",
       "      <td>26</td>\n",
       "      <td>0</td>\n",
       "      <td>NaN</td>\n",
       "      <td>1</td>\n",
       "      <td>1.00000</td>\n",
       "    </tr>\n",
       "    <tr>\n",
       "      <th>1</th>\n",
       "      <td>33022709</td>\n",
       "      <td>277618</td>\n",
       "      <td>64525</td>\n",
       "      <td>33150</td>\n",
       "      <td>51435</td>\n",
       "      <td>1</td>\n",
       "      <td>1</td>\n",
       "      <td>1</td>\n",
       "      <td>4922</td>\n",
       "      <td>tutor</td>\n",
       "      <td>...</td>\n",
       "      <td>0</td>\n",
       "      <td>3</td>\n",
       "      <td>4922</td>\n",
       "      <td>30799</td>\n",
       "      <td>NaN</td>\n",
       "      <td>55</td>\n",
       "      <td>0</td>\n",
       "      <td>NaN</td>\n",
       "      <td>2</td>\n",
       "      <td>2.00000</td>\n",
       "    </tr>\n",
       "    <tr>\n",
       "      <th>2</th>\n",
       "      <td>35450204</td>\n",
       "      <td>220674</td>\n",
       "      <td>70363</td>\n",
       "      <td>33159</td>\n",
       "      <td>51444</td>\n",
       "      <td>1</td>\n",
       "      <td>0</td>\n",
       "      <td>2</td>\n",
       "      <td>25390</td>\n",
       "      <td>tutor</td>\n",
       "      <td>...</td>\n",
       "      <td>0</td>\n",
       "      <td>3</td>\n",
       "      <td>42000</td>\n",
       "      <td>30799</td>\n",
       "      <td>NaN</td>\n",
       "      <td>88</td>\n",
       "      <td>0</td>\n",
       "      <td>NaN</td>\n",
       "      <td>1</td>\n",
       "      <td>1.00000</td>\n",
       "    </tr>\n",
       "    <tr>\n",
       "      <th>3</th>\n",
       "      <td>35450295</td>\n",
       "      <td>220674</td>\n",
       "      <td>70363</td>\n",
       "      <td>33110</td>\n",
       "      <td>51395</td>\n",
       "      <td>1</td>\n",
       "      <td>1</td>\n",
       "      <td>1</td>\n",
       "      <td>4859</td>\n",
       "      <td>tutor</td>\n",
       "      <td>...</td>\n",
       "      <td>0</td>\n",
       "      <td>3</td>\n",
       "      <td>4859</td>\n",
       "      <td>30059</td>\n",
       "      <td>NaN</td>\n",
       "      <td>41</td>\n",
       "      <td>0</td>\n",
       "      <td>NaN</td>\n",
       "      <td>2</td>\n",
       "      <td>2.00000</td>\n",
       "    </tr>\n",
       "    <tr>\n",
       "      <th>4</th>\n",
       "      <td>35450311</td>\n",
       "      <td>220674</td>\n",
       "      <td>70363</td>\n",
       "      <td>33196</td>\n",
       "      <td>51481</td>\n",
       "      <td>1</td>\n",
       "      <td>0</td>\n",
       "      <td>14</td>\n",
       "      <td>19813</td>\n",
       "      <td>tutor</td>\n",
       "      <td>...</td>\n",
       "      <td>3</td>\n",
       "      <td>4</td>\n",
       "      <td>124564</td>\n",
       "      <td>30060</td>\n",
       "      <td>NaN</td>\n",
       "      <td>65</td>\n",
       "      <td>0</td>\n",
       "      <td>0.00000</td>\n",
       "      <td>3</td>\n",
       "      <td>3.00000</td>\n",
       "    </tr>\n",
       "  </tbody>\n",
       "</table>\n",
       "<p>5 rows × 30 columns</p>\n",
       "</div>"
      ],
      "text/plain": [
       "   order_id  assignment_id  user_id  assistment_id  problem_id  original  \\\n",
       "0  33022537         277618    64525          33139       51424         1   \n",
       "1  33022709         277618    64525          33150       51435         1   \n",
       "2  35450204         220674    70363          33159       51444         1   \n",
       "3  35450295         220674    70363          33110       51395         1   \n",
       "4  35450311         220674    70363          33196       51481         1   \n",
       "\n",
       "   correct  attempt_count  ms_first_response tutor_mode  ... hint_count  \\\n",
       "0        1              1              32454      tutor  ...          0   \n",
       "1        1              1               4922      tutor  ...          0   \n",
       "2        0              2              25390      tutor  ...          0   \n",
       "3        1              1               4859      tutor  ...          0   \n",
       "4        0             14              19813      tutor  ...          3   \n",
       "\n",
       "   hint_total  overlap_time  template_id answer_id  answer_text  first_action  \\\n",
       "0           3         32454        30799       NaN           26             0   \n",
       "1           3          4922        30799       NaN           55             0   \n",
       "2           3         42000        30799       NaN           88             0   \n",
       "3           3          4859        30059       NaN           41             0   \n",
       "4           4        124564        30060       NaN           65             0   \n",
       "\n",
       "  bottom_hint  opportunity  opportunity_original  \n",
       "0         NaN            1               1.00000  \n",
       "1         NaN            2               2.00000  \n",
       "2         NaN            1               1.00000  \n",
       "3         NaN            2               2.00000  \n",
       "4     0.00000            3               3.00000  \n",
       "\n",
       "[5 rows x 30 columns]"
      ]
     },
     "execution_count": 6,
     "metadata": {},
     "output_type": "execute_result"
    }
   ],
   "source": [
    "as_df = pd.read_csv('as.csv', encoding = 'latin', low_memory = False)\n",
    "print(as_df.columns)\n",
    "as_df.head(5)"
   ]
  },
  {
   "cell_type": "markdown",
   "id": "a4711e03",
   "metadata": {},
   "source": [
    "We can fit a simple BKT model with the fit method for the Model class. In this case, we will fit a BKT model to every skill in the Cognitive Tutor dataset separately. Note that when skill(s) are not specified, it trains a separate model on all skills by default.\n",
    "\n",
    "We can either specify a data path (location of a file) or the Pandas DataFrame containing the data."
   ]
  },
  {
   "cell_type": "code",
   "execution_count": 6,
   "id": "207eea5d",
   "metadata": {},
   "outputs": [],
   "source": [
    "model.fit(data_path = 'ct.csv')"
   ]
  },
  {
   "cell_type": "markdown",
   "id": "0e6b0669",
   "metadata": {},
   "source": [
    "We can train on multiple skills specified by a list of skill names or a REGEX match for each skill using the skills parameter. We demonstrate the usage of that below. In this case, we fit on all strings containing fraction."
   ]
  },
  {
   "cell_type": "code",
   "execution_count": 7,
   "id": "333c2089",
   "metadata": {},
   "outputs": [
    {
     "name": "stdout",
     "output_type": "stream",
     "text": [
      "Fitted Skills:\n",
      "Plot non-terminating improper fraction\n",
      "Plot terminating proper fraction\n",
      "Calculate part in proportion with fractions\n",
      "Calculate total in proportion with fractions\n"
     ]
    }
   ],
   "source": [
    "model.fit(data_path = 'ct.csv', skills = \".*fraction.*\")\n",
    "print(\"Fitted Skills:\\n%s\" % '\\n'.join(model.coef_.keys()))"
   ]
  },
  {
   "cell_type": "markdown",
   "id": "b23a58f6",
   "metadata": {},
   "source": [
    "Evaluate on the trained skills for any test data located in a Pandas DataFrame or in a file. In this case, we will just use training data, so this will display the training error. Note that the default metric displayed is RMSE. pyBKT supports AUC, RMSE, and accuracy as metrics by default.\n",
    "\n",
    "However, you can define your own custom metric as well!"
   ]
  },
  {
   "cell_type": "code",
   "execution_count": 8,
   "id": "19b3f1c7",
   "metadata": {},
   "outputs": [
    {
     "name": "stdout",
     "output_type": "stream",
     "text": [
      "Training RMSE: 0.454271\n",
      "Training AUC: 0.706883\n"
     ]
    }
   ],
   "source": [
    "# Evaluate with the default RMSE then specify AUC.\n",
    "model.fit(data_path = 'ct.csv')\n",
    "training_rmse = model.evaluate(data = ct_df)\n",
    "training_auc = model.evaluate(data_path = \"ct.csv\", metric = 'auc')\n",
    "print(\"Training RMSE: %f\" % training_rmse)\n",
    "print(\"Training AUC: %f\" % training_auc)"
   ]
  },
  {
   "cell_type": "code",
   "execution_count": 9,
   "id": "cd13ef44",
   "metadata": {},
   "outputs": [
    {
     "name": "stdout",
     "output_type": "stream",
     "text": [
      "Training MAE: 0.413332\n"
     ]
    }
   ],
   "source": [
    "# We can even define our own metric!\n",
    "def mae(true_vals, pred_vals):\n",
    "  \"\"\" Calculates the mean absolute error. \"\"\"\n",
    "  return np.mean(np.abs(true_vals - pred_vals))\n",
    "\n",
    "training_mae = model.evaluate(data_path = 'ct.csv', metric = mae)\n",
    "print(\"Training MAE: %f\" % training_mae)"
   ]
  },
  {
   "cell_type": "markdown",
   "id": "14f67029",
   "metadata": {},
   "source": [
    "#### Model Prediction\n",
    "pyBKT can return predictions on a test set given a Pandas DataFrame or a file conaining test data. If pyBKT is asked for predictions on skills for which it has not trained a model, it will output a best effort guess of 0.5 for both the correct and state predictions.\n",
    "\n",
    "We will be using the training dataset again for testing purposes."
   ]
  },
  {
   "cell_type": "code",
   "execution_count": 10,
   "id": "c7e3faa0",
   "metadata": {},
   "outputs": [
    {
     "data": {
      "text/html": [
       "<div>\n",
       "<style scoped>\n",
       "    .dataframe tbody tr th:only-of-type {\n",
       "        vertical-align: middle;\n",
       "    }\n",
       "\n",
       "    .dataframe tbody tr th {\n",
       "        vertical-align: top;\n",
       "    }\n",
       "\n",
       "    .dataframe thead th {\n",
       "        text-align: right;\n",
       "    }\n",
       "</style>\n",
       "<table border=\"1\" class=\"dataframe\">\n",
       "  <thead>\n",
       "    <tr style=\"text-align: right;\">\n",
       "      <th></th>\n",
       "      <th>Anon Student Id</th>\n",
       "      <th>KC(Default)</th>\n",
       "      <th>Correct First Attempt</th>\n",
       "      <th>correct_predictions</th>\n",
       "      <th>state_predictions</th>\n",
       "    </tr>\n",
       "  </thead>\n",
       "  <tbody>\n",
       "    <tr>\n",
       "      <th>773</th>\n",
       "      <td>0I891Gg</td>\n",
       "      <td>Plot non-terminating improper fraction</td>\n",
       "      <td>0</td>\n",
       "      <td>0.50118</td>\n",
       "      <td>0.74122</td>\n",
       "    </tr>\n",
       "    <tr>\n",
       "      <th>774</th>\n",
       "      <td>0I891Gg</td>\n",
       "      <td>Plot imperfect radical</td>\n",
       "      <td>0</td>\n",
       "      <td>0.50000</td>\n",
       "      <td>0.50000</td>\n",
       "    </tr>\n",
       "    <tr>\n",
       "      <th>775</th>\n",
       "      <td>0I891Gg</td>\n",
       "      <td>Plot terminating proper fraction</td>\n",
       "      <td>0</td>\n",
       "      <td>0.51927</td>\n",
       "      <td>0.54764</td>\n",
       "    </tr>\n",
       "    <tr>\n",
       "      <th>776</th>\n",
       "      <td>0I891Gg</td>\n",
       "      <td>Plot pi</td>\n",
       "      <td>1</td>\n",
       "      <td>0.50000</td>\n",
       "      <td>0.50000</td>\n",
       "    </tr>\n",
       "    <tr>\n",
       "      <th>777</th>\n",
       "      <td>0I891Gg</td>\n",
       "      <td>Plot terminating proper fraction</td>\n",
       "      <td>1</td>\n",
       "      <td>0.46088</td>\n",
       "      <td>0.38301</td>\n",
       "    </tr>\n",
       "  </tbody>\n",
       "</table>\n",
       "</div>"
      ],
      "text/plain": [
       "    Anon Student Id                             KC(Default)  \\\n",
       "773         0I891Gg  Plot non-terminating improper fraction   \n",
       "774         0I891Gg                  Plot imperfect radical   \n",
       "775         0I891Gg        Plot terminating proper fraction   \n",
       "776         0I891Gg                                 Plot pi   \n",
       "777         0I891Gg        Plot terminating proper fraction   \n",
       "\n",
       "     Correct First Attempt  correct_predictions  state_predictions  \n",
       "773                      0              0.50118            0.74122  \n",
       "774                      0              0.50000            0.50000  \n",
       "775                      0              0.51927            0.54764  \n",
       "776                      1              0.50000            0.50000  \n",
       "777                      1              0.46088            0.38301  "
      ]
     },
     "execution_count": 10,
     "metadata": {},
     "output_type": "execute_result"
    }
   ],
   "source": [
    "# Note again that the REGEX expression below trains BKT models on all\n",
    "# skills containing the word fraction!\n",
    "model.fit(data_path = 'ct.csv', skills = \".*fraction.*\")\n",
    "preds = model.predict(data_path = 'ct.csv')\n",
    "preds[['Anon Student Id', 'KC(Default)', 'Correct First Attempt', \n",
    "       'correct_predictions', 'state_predictions']].head(5)"
   ]
  },
  {
   "cell_type": "code",
   "execution_count": 11,
   "id": "f5f65f10",
   "metadata": {},
   "outputs": [
    {
     "data": {
      "text/plain": [
       "array(['Plot non-terminating improper fraction',\n",
       "       'Plot terminating proper fraction',\n",
       "       'Calculate part in proportion with fractions',\n",
       "       'Calculate total in proportion with fractions'], dtype=object)"
      ]
     },
     "execution_count": 11,
     "metadata": {},
     "output_type": "execute_result"
    }
   ],
   "source": [
    "# Let's sanity check that we have only trained on the skills that we \n",
    "# specified in the call to fit! Note that while it is possible for a \n",
    "# BKT prediction to be 0.5 exactly, it is unlikely.\n",
    "preds[preds['correct_predictions'] != 0.5]['KC(Default)'].unique()"
   ]
  },
  {
   "cell_type": "code",
   "execution_count": 12,
   "id": "d8e314ce",
   "metadata": {},
   "outputs": [
    {
     "data": {
      "text/plain": [
       "0.44053316627308153"
      ]
     },
     "execution_count": 12,
     "metadata": {},
     "output_type": "execute_result"
    }
   ],
   "source": [
    "# Let's manually calculate the RMSE of the correct predictions \n",
    "# and ensure that it is the same as a call to the evaluate function.\n",
    "def rmse(y_true, y_pred):\n",
    "  \"\"\" Returns the root-mean squared error. \"\"\"\n",
    "  return np.sqrt(np.mean((y_true - y_pred) ** 2))\n",
    "\n",
    "# Filter out the data for which we did not train!\n",
    "preds_filtered = preds[preds['KC(Default)'].str.contains('fraction')]\n",
    "manual_training_rmse = rmse(preds_filtered['Correct First Attempt'],\n",
    "                            preds_filtered['correct_predictions'])\n",
    "manual_training_rmse"
   ]
  },
  {
   "cell_type": "code",
   "execution_count": 13,
   "id": "2232a938",
   "metadata": {},
   "outputs": [
    {
     "data": {
      "text/plain": [
       "0.44053316627307615"
      ]
     },
     "execution_count": 13,
     "metadata": {},
     "output_type": "execute_result"
    }
   ],
   "source": [
    "# We use model.evaluate to accomplish the same thing!\n",
    "# You should receive an RMSE that is identical to the above\n",
    "# manually calculated RMSE.\n",
    "model.evaluate(data = ct_df)"
   ]
  },
  {
   "cell_type": "markdown",
   "id": "d77e4050",
   "metadata": {},
   "source": [
    "#### Model Cross-Validation and Variants\n",
    "Crossvalidation is offered as a blackbox function similar to a combination of fit and evaluate that accepts a particular number of folds, a seed, and a metric (either one of the 3 provided that are 'rmse', 'auc' or 'accuracy' or a custom Python function taking 2 arguments). Similar arguments for the model types, data path/data, and skill names are accepted as with the fit function."
   ]
  },
  {
   "cell_type": "code",
   "execution_count": null,
   "id": "4d1cfdcb",
   "metadata": {},
   "outputs": [],
   "source": [
    "# Note that folds is an optional parameter as well as the model \n",
    "# variant, seed, and crossvalidated metric.\n",
    "# By default, we crossvalidate on all skills separately.\n",
    "model.crossvalidate(data_path = 'ct.csv', folds = 5)"
   ]
  },
  {
   "cell_type": "markdown",
   "id": "e61cba53",
   "metadata": {},
   "source": [
    "We explore all the model variants offered within pyBKT for one particular skill (Calculations with Similar Figures) using cross-validation since it provides a much better evaluation of true model performance during test time than the training loss!"
   ]
  },
  {
   "cell_type": "code",
   "execution_count": null,
   "id": "5fb8f18d",
   "metadata": {},
   "outputs": [],
   "source": [
    "# Try this with a different skill or metric by replacing the lines below.\n",
    "skill = 'Calculations with Similar Figures'\n",
    "metric = 'auc'\n",
    "\n",
    "simple_cv = model.crossvalidate(data = as_df, skills = skill, \n",
    "                                metric = metric)\n",
    "simple_cv"
   ]
  },
  {
   "cell_type": "markdown",
   "id": "16c47148",
   "metadata": {},
   "source": [
    "The multigs model fits a different guess/slip rate for each class. Note that by default, for the CognitiveTutor data, the guess and slip classes will be specified by the template_id. pyBKT will be able to infer the column names for AS/CT type datasets, but you can specify a custom column mapping (discussed in later cells)."
   ]
  },
  {
   "cell_type": "code",
   "execution_count": null,
   "id": "a124384d",
   "metadata": {},
   "outputs": [],
   "source": [
    "multigs_cv = model.crossvalidate(data_path = 'as.csv', skills = skill,\n",
    "                                 multigs = True, metric = metric)\n",
    "multigs_cv"
   ]
  },
  {
   "cell_type": "markdown",
   "id": "b4d75fa9",
   "metadata": {},
   "source": [
    "The multilearn model fits a different learn rate (and forget rate if enabled) rate for each class specified. Note that the learn classes are specified by the template_id column by default for the Assistments dataset."
   ]
  },
  {
   "cell_type": "code",
   "execution_count": null,
   "id": "e31fa22f",
   "metadata": {},
   "outputs": [],
   "source": [
    "multilearn_cv = model.crossvalidate(data_path = 'as.csv', skills = skill,\n",
    "                                    multilearn = True, forgets = True, \n",
    "                                    metric = metric)\n",
    "multilearn_cv"
   ]
  },
  {
   "cell_type": "markdown",
   "id": "7469da60",
   "metadata": {},
   "source": [
    "The multilearn model fits a different learn (and forget if enabled) rate for each class, and the multipair model generates a different learn rate based on each consecutive pair of classes."
   ]
  },
  {
   "cell_type": "code",
   "execution_count": null,
   "id": "76763b48",
   "metadata": {},
   "outputs": [],
   "source": [
    "# The multiprior model generates different priors based on the first \n",
    "# response of each student.\n",
    "multiprior_cv = model.crossvalidate(data_path = 'as.csv', skills = skill,\n",
    "                                    multiprior = True, metric = metric,\n",
    "                                    folds = 3)\n",
    "multipair_cv = model.crossvalidate(data_path = 'as.csv', skills = skill,\n",
    "                                   multipair = True, metric = metric,\n",
    "                                   folds = 3)\n",
    "pd.concat([multiprior_cv, multipair_cv], axis = 0)"
   ]
  },
  {
   "cell_type": "markdown",
   "id": "bb58451d",
   "metadata": {},
   "source": [
    "The best performing models are typically those that combine several useful variants such as the multilearn and multiguess/slip class variants. We will enable the forgets parameter as well. Try testing with other skills and see whether this holds true for the general case."
   ]
  },
  {
   "cell_type": "code",
   "execution_count": null,
   "id": "3654c8e7",
   "metadata": {},
   "outputs": [],
   "source": [
    "# We combine the fifth parameter, forgets, with the previous multilearn\n",
    "# and multiguess/slip models for a combo model.\n",
    "combo_cv = model.crossvalidate(data_path = 'as.csv', skills = skill,\n",
    "                               forgets = True, multilearn = True, \n",
    "                               multigs = True, metric = metric)\n",
    "combo_cv"
   ]
  },
  {
   "cell_type": "markdown",
   "id": "35cf530f",
   "metadata": {},
   "source": [
    "#### Model Parameter Initialization and Visualization\n",
    "We can initialize any of the model parameters for a particular skill's BKT model before training using model.coef_. Similar to SciKit Learn, model.coef_ is a way to initialize model parameters and view them after they are fitted."
   ]
  },
  {
   "cell_type": "code",
   "execution_count": null,
   "id": "5dfbd3b8",
   "metadata": {},
   "outputs": [],
   "source": [
    "# We initialize the prior parameter to 1e-3 for the Box and Whisker \n",
    "# skill.\n",
    "#\n",
    "# Note that if we are training a KT-IDEM (multiguess/slip) model,\n",
    "# we need to have len(guesses) == len(slips) == # of G/S classes.\n",
    "# Similarly, for multilearn models, you need len(forgets) == len(guesses)\n",
    "# corresponding to the number of learn classes.\n",
    "skill = 'Box and Whisker'\n",
    "\n",
    "model.coef_ = {skill: {'prior': 1e-40}}\n",
    "model.coef_"
   ]
  },
  {
   "cell_type": "code",
   "execution_count": null,
   "id": "74d2a3e7",
   "metadata": {},
   "outputs": [],
   "source": [
    "# Train the model with the pre-initialized parameters.\n",
    "model.fit(data_path = 'as.csv', skills = skill, multigs = True)\n",
    "low_prior_auc = model.evaluate(data_path = 'as.csv', metric = 'auc')\n",
    "\n",
    "# We can obtain the prior value by indexing into the model.coef_\n",
    "# dictionary with the skill and parameter names. \n",
    "print(\"Fitted Prior Value: %f\" % model.coef_[skill]['prior'])\n",
    "print(\"Training AUC: %f\" % low_prior_auc)"
   ]
  },
  {
   "cell_type": "code",
   "execution_count": null,
   "id": "90140d19",
   "metadata": {},
   "outputs": [],
   "source": [
    "# Initialize the prior to be more reasonable.\n",
    "model.coef_ = {skill: {'prior': 0.5}}\n",
    "model.fit(data_path = 'as.csv', skills = skill, multigs = True)\n",
    "normal_prior_auc = model.evaluate(data_path = 'as.csv', metric = 'auc')\n",
    "\n",
    "# Print the fitted prior value and RMSE.\n",
    "print(\"Fitted Prior Value: %f\" % model.coef_[skill]['prior'])\n",
    "print(\"Training AUC: %f\" % normal_prior_auc)"
   ]
  },
  {
   "cell_type": "markdown",
   "id": "3eb60c22",
   "metadata": {},
   "source": [
    "We can visualize the parameters of our fitted model in a Pandas DataFrame once it has been fit. We can easily plot the learn, forget, guess, and slip rates for multilearn/forget and multiguess/slip models."
   ]
  },
  {
   "cell_type": "code",
   "execution_count": null,
   "id": "5dbfa0b4",
   "metadata": {},
   "outputs": [],
   "source": [
    "model.fit(data_path = 'as.csv', skills = skill,\n",
    "          forgets = True, multilearn = True, \n",
    "          multigs = True)\n",
    "model.params()"
   ]
  },
  {
   "cell_type": "code",
   "execution_count": null,
   "id": "e465352c",
   "metadata": {},
   "outputs": [],
   "source": [
    "# We will get warnings for using indexing past lexsort. That's fine,\n",
    "# and we will disable these warnings.\n",
    "import warnings\n",
    "warnings.simplefilter(action='ignore')\n",
    "\n",
    "# Plot the learns, forgets, slips and guesses for each of the classes.\n",
    "params = model.params()\n",
    "plt.figure(figsize = (12, 6))\n",
    "plt.plot(params.loc[(skill, 'guesses')], label = 'Guesses')\n",
    "plt.plot(params.loc[(skill, 'learns')], label = 'Learns')\n",
    "plt.plot(params.loc[(skill, 'forgets')], label = 'Forgets')\n",
    "plt.plot(params.loc[(skill, 'slips')], label = 'Slips')\n",
    "plt.xlabel('Template ID')\n",
    "plt.ylabel('Rate')\n",
    "plt.title('BKT Parameters per Template ID Class')\n",
    "plt.legend();"
   ]
  },
  {
   "cell_type": "markdown",
   "id": "6c411a4e",
   "metadata": {},
   "source": [
    "#### Extended Data and Model Configuration\n",
    "Models can get excessively long, whether it's due to the number of model variants used, the number of folds/seed/metric for crossvalidation, data path length, etc.\n",
    "\n",
    "We create a configuration dictionary that describes all the parameters we will pass in. Note that this is not a pyBKT feature, but actually just a Python feature that not many realize is very powerful!"
   ]
  },
  {
   "cell_type": "code",
   "execution_count": null,
   "id": "2b9c84d2",
   "metadata": {},
   "outputs": [],
   "source": [
    "config = {'multigs': True,\n",
    "          'multilearn': True,\n",
    "          'skills': ['Box and Whisker', 'Circle Graph'],\n",
    "          'forgets': True,\n",
    "          'metric': 'accuracy',\n",
    "          'folds': 4,\n",
    "          'seed': 42 * 42}\n",
    "model.crossvalidate(data_path = 'as.csv', **config)"
   ]
  },
  {
   "cell_type": "markdown",
   "id": "cd57baf0",
   "metadata": {},
   "source": [
    "For other non-Assistments/CogTutor style datasets, we will need to specify the columns corresponding to each required column (i.e. the user ID, correct/incorrect). This is because pyBKT only supports the automatic inference of column names for the AS/CT datasets.\n",
    "\n",
    "For that, we use a defaults dictionary or specify parameters for each model variant."
   ]
  },
  {
   "cell_type": "code",
   "execution_count": null,
   "id": "fdb7749e",
   "metadata": {},
   "outputs": [],
   "source": [
    "# Note that this means that the order_id specified by the column named\n",
    "# custom_order in our custom dataset, the skill_name is specified by the \n",
    "# custom_skill column in our custom dataset, and so on.\n",
    "defaults = {'order_id': 'custom_order', \n",
    "            'skill_name': 'custom_skill', \n",
    "            'correct': 'custom_answer'}\n",
    "\n",
    "# This defaults dictionary can also contain columns specifying\n",
    "# what columns correspond to the desired guess/slip classes, etc.\n",
    "defaults['multigs'] = 'custom_gs_classes'\n",
    "\n",
    "# Our final column mapping is:\n",
    "defaults"
   ]
  },
  {
   "cell_type": "code",
   "execution_count": null,
   "id": "c2211e25",
   "metadata": {},
   "outputs": [],
   "source": [
    "# We'll use this mapping with the modified CogTutor dataset with the names\n",
    "# we chose for the columns.\n",
    "#\n",
    "# Note that Row is the order ID (order_id), KC(Default) is the \n",
    "# skill name (skill_name), Correct First Attempt is correct, and \n",
    "# Problem Name is the corresponding guess/slip class column.\n",
    "\n",
    "columns = ['Row', 'Anon Student Id', 'KC(Default)', \n",
    "           'Correct First Attempt', 'Problem Name']\n",
    "my_df = ct_df[columns]\n",
    "my_df.columns = ['custom_order', 'Anon Student Id',\n",
    "                 'custom_skill', 'custom_answer',\n",
    "                 'custom_gs_classes']\n",
    "my_df['custom_skill'] += ' (Custom)'\n",
    "my_df.head(5)"
   ]
  },
  {
   "cell_type": "code",
   "execution_count": null,
   "id": "82ab8c17",
   "metadata": {},
   "outputs": [],
   "source": [
    "# We can crossvalidate/fit given these default column mappings.\n",
    "model.crossvalidate(data = my_df, metric = 'auc',\n",
    "                    defaults = defaults)"
   ]
  },
  {
   "cell_type": "markdown",
   "id": "4c48ce9e",
   "metadata": {},
   "source": [
    "## Item-Reponse Theory\n",
    "Item-response theory represent a different approach to infer latent knoledge. Instead of viewing the response (of a particular task) being an probablistic outcome of knowledge, we can assume that the response changes as a function of knowledge/ability and task difficulty. So this assumption help us model someone's knowledge in a more logistic way. Similarly, we can model more factors such as guessing in knowledge tracing. But the nice thing about IRT is the result gives us not only an estimation of someone's knwoledge state, but also an estimation on task difficulty. In fact, what IRT model initially estimate the the task difficulty, which is a very important issue in the psychometrics world. And once task difficulty is obtained, we then infer the respondents' ability.\n",
    "\n",
    "Again, here is a tutorial on implementing IRT (as well as simulating some data for testing purpose) in Python: https://mc-stan.org/events/stancon2017-notebooks/stancon2017-groves-irt.html"
   ]
  },
  {
   "cell_type": "markdown",
   "id": "dd9cce4b",
   "metadata": {},
   "source": [
    "## End Notes\n",
    "Overall, you might find this ICE much more math-heavy and less-guided compared to the previous weeks. Part of the reason is knowledge tracing is not a frequently-used method outside of the EDM field. Although the model behind it (e.g., HMM, logistic model) are not new, the implementation requires a lot more manual assembly. With that being said, I hope you can try to check out the math and model implementation in the papers (at least get the gist of it). Walk through the online tutorials on implementation(s) with the provided/simulated data. Feel free to use other resources/packages/papers if you need to. Diving into one of the models is fine."
   ]
  }
 ],
 "metadata": {
  "kernelspec": {
   "display_name": "Python 3",
   "language": "python",
   "name": "python3"
  },
  "language_info": {
   "codemirror_mode": {
    "name": "ipython",
    "version": 3
   },
   "file_extension": ".py",
   "mimetype": "text/x-python",
   "name": "python",
   "nbconvert_exporter": "python",
   "pygments_lexer": "ipython3",
   "version": "3.8.8"
  }
 },
 "nbformat": 4,
 "nbformat_minor": 5
}
