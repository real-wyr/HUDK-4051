{
 "cells": [
  {
   "cell_type": "markdown",
   "id": "e94ca770",
   "metadata": {},
   "source": [
    "HUDK 4051\n",
    "\n",
    "Yiran Wang\n",
    "\n",
    "2022/02/09\n",
    "\n",
    "# ICE 1 Database Manipulation"
   ]
  },
  {
   "cell_type": "markdown",
   "id": "7a1f48e0",
   "metadata": {},
   "source": [
    "# Introduction to SQL"
   ]
  },
  {
   "cell_type": "markdown",
   "id": "07323b2e",
   "metadata": {},
   "source": [
    "SQL, which stands for Structured Query Language, is a language for interacting with data stored in something called a relational database."
   ]
  },
  {
   "cell_type": "markdown",
   "id": "d40118ad",
   "metadata": {},
   "source": [
    "## Chapter 1: Selecting Columns"
   ]
  },
  {
   "cell_type": "markdown",
   "id": "addd0f9c",
   "metadata": {},
   "source": [
    "### SELECTing single columns\n",
    "\n",
    "In SQL, you can select data from a table using a SELECT statement. \n",
    "In this query, SELECT and FROM are called keywords.\n",
    "\n",
    "ex:\n",
    "SELECT name \n",
    "FROM people;"
   ]
  },
  {
   "cell_type": "markdown",
   "id": "172b8db4",
   "metadata": {},
   "source": [
    "### SELECTing multiple columns\n",
    "\n",
    "ex:\n",
    "SELECT name, birthdate\n",
    "FROM people;\n",
    "\n",
    "##### Selecting all columns:\n",
    "\n",
    "SELECT *\n",
    "FROM people;\n",
    "\n",
    "##### If you only want to return a certain number of results, you can use the LIMIT keyword to limit the number of rows returned:\n",
    "\n",
    "SELECT *\n",
    "FROM people\n",
    "LIMIT 10;"
   ]
  },
  {
   "cell_type": "markdown",
   "id": "55383a68",
   "metadata": {},
   "source": [
    "### SELECT DISTINCT\n",
    "\n",
    "Often your results will include many duplicate values. If you want to select all the unique values from a column, you can use the DISTINCT keyword.\n",
    "\n",
    "ex:\n",
    "SELECT DISTINCT language\n",
    "FROM films;"
   ]
  },
  {
   "cell_type": "markdown",
   "id": "a494544d",
   "metadata": {},
   "source": [
    "### Learning to COUNT\n",
    "\n",
    "What if you want to count the number of employees in your employees table? The COUNT() function lets you do this by returning the number of rows in one or more columns.\n",
    "\n",
    "ex:\n",
    "SELECT COUNT(*)\n",
    "FROM people;"
   ]
  },
  {
   "cell_type": "markdown",
   "id": "92c6dc41",
   "metadata": {},
   "source": [
    "### Learning to COUNT\n",
    "\n",
    "What if you want to count the number of employees in your employees table? The COUNT() function lets you do this by returning the number of rows in one or more columns.\n",
    "\n",
    "ex:\n",
    "SELECT COUNT(*)\n",
    "FROM people;\n",
    "\n",
    "As you've seen, COUNT(*) tells you how many rows are in a table. However, if you want to count the number of non-missing values in a particular column, you can call COUNT() on just that column.\n",
    "\n",
    "ex:\n",
    "SELECT COUNT(birthdate)\n",
    "FROM people;\n",
    "\n",
    "It's also common to combine COUNT() with DISTINCT to count the number of distinct values in a column.\n",
    "\n",
    "ex:\n",
    "SELECT COUNT(DISTINCT birthdate)\n",
    "FROM people;"
   ]
  },
  {
   "cell_type": "markdown",
   "id": "eb66a76a",
   "metadata": {},
   "source": [
    "## Chapter 2: Filtering Rows"
   ]
  },
  {
   "cell_type": "markdown",
   "id": "d6a5a97b",
   "metadata": {},
   "source": [
    "### Filtering results\n",
    "\n",
    "In SQL, the WHERE keyword allows you to filter based on both text and numeric values in a table. There are a few different comparison operators you can use:\n",
    "\n",
    "- = equal\n",
    "- <> not equal\n",
    "- < less than\n",
    "- > greater than\n",
    "- <= less than or equal to\n",
    "- >= greater than or equal to\n",
    "\n",
    "ex:\n",
    "SELECT title\n",
    "FROM films\n",
    "WHERE title = 'Metropolis';\n",
    "\n",
    "Notice that the WHERE clause always comes after the FROM statement!"
   ]
  },
  {
   "cell_type": "markdown",
   "id": "b0939efc",
   "metadata": {},
   "source": [
    "### Simple filtering of numeric values\n",
    "\n",
    "As you learned in the previous exercise, the WHERE clause can also be used to filter numeric records, such as years or ages.\n",
    "\n",
    "ex:\n",
    "SELECT *\n",
    "FROM films\n",
    "WHERE budget > 10000;"
   ]
  },
  {
   "cell_type": "markdown",
   "id": "87477520",
   "metadata": {},
   "source": [
    "### Simple filtering of text\n",
    "\n",
    "Remember, the WHERE clause can also be used to filter text results, such as names or countries.\n",
    "\n",
    "ex:\n",
    "SELECT title\n",
    "FROM films\n",
    "WHERE country = 'China';"
   ]
  },
  {
   "cell_type": "markdown",
   "id": "44a69d21",
   "metadata": {},
   "source": [
    "### WHERE AND\n",
    "\n",
    "Often, you'll want to select data based on multiple conditions. You can build up your WHERE queries by combining multiple conditions with the AND keyword.\n",
    "\n",
    "ex:\n",
    "SELECT title\n",
    "FROM films\n",
    "WHERE release_year > 1994\n",
    "AND release_year < 2000;\n",
    "\n",
    "Note that you need to specify the column name separately for every AND condition,so the following would be invalid:\n",
    "\n",
    "ex:\n",
    "SELECT title\n",
    "FROM films\n",
    "WHERE release_year > 1994 AND < 2000;\n",
    "\n",
    "You can add as many AND conditions as you need!"
   ]
  },
  {
   "cell_type": "markdown",
   "id": "24b4f520",
   "metadata": {},
   "source": [
    "### WHERE AND OR\n",
    "\n",
    "What if you want to select rows based on multiple conditions where some but not all of the conditions need to be met? For this, SQL has the OR operator.\n",
    "\n",
    "For example, the following returns all films released in either 1994 or 2000:\n",
    "\n",
    "ex:\n",
    "\n",
    "SELECT title\n",
    "FROM films\n",
    "WHERE release_year = 1994\n",
    "OR release_year = 2000;\n",
    "\n",
    "When combining AND and OR, be sure to enclose the individual clauses in parentheses, like so:\n",
    "\n",
    "ex:\n",
    "SELECT title\n",
    "FROM films\n",
    "WHERE (release_year = 1994 OR release_year = 1995)\n",
    "AND (certification = 'PG' OR certification = 'R');"
   ]
  },
  {
   "cell_type": "markdown",
   "id": "c0633106",
   "metadata": {},
   "source": [
    "### BETWEEN\n",
    "\n",
    "Checking for ranges like this is very common, so in SQL the BETWEEN keyword provides a useful shorthand for filtering values within a specified range.\n",
    "\n",
    "For example, get titles of all films released in and between 1994 and 2000:\n",
    "\n",
    "ex:\n",
    "\n",
    "SELECT title\n",
    "FROM films\n",
    "WHERE release_year\n",
    "BETWEEN 1994 AND 2000;\n",
    "\n",
    "It's important to remember that BETWEEN is inclusive, meaning the beginning and end values are included in the results!"
   ]
  },
  {
   "cell_type": "markdown",
   "id": "a289952c",
   "metadata": {},
   "source": [
    "### WHERE IN\n",
    "\n",
    "As you've seen, WHERE is very useful for filtering results. However, if you want to filter based on many conditions, WHERE can get unwieldy.\n",
    "\n",
    "Enter the IN operator! The IN operator allows you to specify multiple values in a WHERE clause, making it easier and quicker to specify multiple OR conditions! Neat, right?\n",
    "\n",
    "ex:\n",
    "\n",
    "SELECT name\n",
    "FROM kids\n",
    "WHERE age IN (2, 4, 6, 8, 10);"
   ]
  },
  {
   "cell_type": "markdown",
   "id": "511ba32e",
   "metadata": {},
   "source": [
    "### Introduction to NULL and IS NULL\n",
    "\n",
    "In SQL, NULL represents a missing or unknown value. You can check for NULL values using the expression IS NULL.\n",
    "\n",
    "For example, to count the number of missing birth dates in the people table:\n",
    "\n",
    "ex:\n",
    "\n",
    "SELECT COUNT(*)\n",
    "FROM people\n",
    "WHERE birthdate IS NULL;\n",
    "\n",
    "As you can see, IS NULL is useful when combined with WHERE to figure out what data you're missing.\n",
    "\n",
    "Sometimes, you'll want to filter out missing values so you only get results which are not NULL. To do this, you can use the IS NOT NULL operator.\n",
    "\n",
    "For example, this query gives the names of all people whose birth dates are not missing in the people table.\n",
    "\n",
    "ex:\n",
    "\n",
    "SELECT name\n",
    "FROM people\n",
    "WHERE birthdate IS NOT NULL;"
   ]
  },
  {
   "cell_type": "markdown",
   "id": "57732fa2",
   "metadata": {},
   "source": [
    "### LIKE and NOT LIKE\n",
    "\n",
    "As you've seen, the WHERE clause can be used to filter text data. However, so far you've only been able to filter by specifying the exact text you're interested in. In the real world, often you'll want to search for a pattern rather than a specific text string.\n",
    "\n",
    "In SQL, the LIKE operator can be used in a WHERE clause to search for a pattern in a column. To accomplish this, you use something called a wildcard as a placeholder for some other values. There are two wildcards you can use with LIKE:\n",
    "\n",
    "\n",
    "The % wildcard will match zero, one, or many characters in text.\n",
    "\n",
    "For example, the following query matches companies like 'Data', 'DataC' 'DataCamp', 'DataMind', and so on:\n",
    "\n",
    "ex:\n",
    "\n",
    "SELECT name\n",
    "FROM companies\n",
    "WHERE name LIKE 'Data%';\n",
    "\n",
    "\n",
    "The _ wildcard will match a single character.\n",
    "\n",
    "For example, the following query matches companies like 'DataCamp', 'DataComp', and so on:\n",
    "\n",
    "ex:\n",
    "\n",
    "SELECT name\n",
    "FROM companies\n",
    "WHERE name LIKE 'DataC_mp';\n",
    "\n",
    "You can also use the NOT LIKE operator to find records that don't match the pattern you specify."
   ]
  },
  {
   "cell_type": "markdown",
   "id": "0e93df83",
   "metadata": {},
   "source": [
    "## Chapter 3: Aggregate Functions"
   ]
  },
  {
   "cell_type": "markdown",
   "id": "e12c55f4",
   "metadata": {},
   "source": [
    "### Aggregate functions\n",
    "\n",
    "Often, you will want to perform some calculation on the data in a database. SQL provides a few functions, called aggregate functions, to help you out with this.\n",
    "\n",
    "ex:\n",
    "\n",
    "SELECT AVG(budget)\n",
    "FROM films;\n",
    "\n",
    "gives you the average value from the budget column of the films table.\n",
    "\n",
    "\n",
    "Similarly, the MAX() function returns the highest budget:\n",
    "\n",
    "ex:\n",
    "\n",
    "SELECT MAX(budget)\n",
    "FROM films;\n",
    "\n",
    "\n",
    "The SUM() function returns the result of adding up the numeric values in a column:\n",
    "\n",
    "ex:\n",
    "\n",
    "SELECT SUM(budget)\n",
    "FROM films;\n",
    "\n",
    "You can probably guess what the MIN() function does!"
   ]
  },
  {
   "cell_type": "markdown",
   "id": "7e8b8751",
   "metadata": {},
   "source": [
    "### Combining aggregate functions with WHERE\n",
    "\n",
    "Aggregate functions can be combined with the WHERE clause to gain further insights from your data.\n",
    "\n",
    "For example, to get the total budget of movies made in the year 2010 or later:\n",
    "\n",
    "ex:\n",
    "\n",
    "SELECT SUM(budget)\n",
    "FROM films\n",
    "WHERE release_year >= 2010;"
   ]
  },
  {
   "cell_type": "markdown",
   "id": "76215ae0",
   "metadata": {},
   "source": [
    "### A note on arithmetic\n",
    "\n",
    "In addition to using aggregate functions, you can perform basic arithmetic with symbols like +, -, *, and /.\n",
    "\n",
    "\n",
    "So, for example, this gives a result of 12:\n",
    "\n",
    "ex:\n",
    "\n",
    "SELECT (4 * 3);\n",
    "\n",
    "\n",
    "However, the following gives a result of 1:\n",
    "\n",
    "ex:\n",
    "\n",
    "SELECT (4 / 3);\n",
    "\n",
    "\n",
    "SQL assumes that if you divide an integer by an integer, you want to get an integer back. So be careful when dividing!\n",
    "\n",
    "If you want more precision when dividing, you can add decimal places to your numbers.\n",
    "\n",
    "ex:\n",
    "\n",
    "SELECT (4.0 / 3.0) AS result;\n",
    "gives you the result you would expect: 1.333."
   ]
  },
  {
   "cell_type": "markdown",
   "id": "c5b35923",
   "metadata": {},
   "source": [
    "### It's AS simple AS aliasing\n",
    "\n",
    "You may have noticed in the first exercise of this chapter that the column name of your result was just the name of the function you used.\n",
    "\n",
    "ex:\n",
    "\n",
    "SELECT MAX(budget)\n",
    "FROM films;\n",
    "\n",
    "gives you a result with one column, named max. But what if you use two functions like this?\n",
    "\n",
    "ex:\n",
    "\n",
    "SELECT MAX(budget), MAX(duration)\n",
    "FROM films;\n",
    "\n",
    "Well, then you'd have two columns named max, which isn't very useful!\n",
    "\n",
    "\n",
    "To avoid situations like this, SQL allows you to do something called aliasing. Aliasing simply means you assign a temporary name to something. To alias, you use the AS keyword, which you've already seen earlier in this course.\n",
    "\n",
    "For example, in the above example we could use aliases to make the result clearer:\n",
    "\n",
    "ex:\n",
    "\n",
    "SELECT MAX(budget) AS max_budget,\n",
    "       MAX(duration) AS max_duration\n",
    "FROM films;\n",
    "\n",
    "Aliases are helpful for making results more readable!"
   ]
  },
  {
   "cell_type": "markdown",
   "id": "f6d1d9cd",
   "metadata": {},
   "source": [
    "### Even more aliasing\n",
    "\n",
    "Recall: SQL assumes that if you divide an integer by an integer, you want to get an integer back.\n",
    "\n",
    "This means that the following will erroneously result in 400.0:\n",
    "\n",
    "ex:\n",
    "\n",
    "SELECT 45 / 10 * 100.0;\n",
    "\n",
    "This is because 45 / 10 evaluates to an integer (4), and not a decimal number like we would expect.\n",
    "\n",
    "So when you're dividing make sure at least one of your numbers has a decimal place:\n",
    "\n",
    "ex:\n",
    "\n",
    "SELECT 45 * 100.0 / 10;\n",
    "\n",
    "The above now gives the correct answer of 450.0 since the numerator (45 * 100.0) of the division is now a decimal!"
   ]
  },
  {
   "cell_type": "markdown",
   "id": "4843e8b7",
   "metadata": {},
   "source": [
    "## Chapter 4: Sorting and grouping"
   ]
  },
  {
   "cell_type": "markdown",
   "id": "ce2b2200",
   "metadata": {},
   "source": [
    "### Order By\n",
    "\n",
    "In SQL, the ORDER BY keyword is used to sort results in ascending or descending order according to the values of one or more columns.\n",
    "\n",
    "By default ORDER BY will sort in ascending order. If you want to sort the results in descending order, you can use the DESC keyword.\n",
    "\n",
    "ex:\n",
    "\n",
    "SELECT title\n",
    "FROM films\n",
    "ORDER BY release_year DESC;\n",
    "\n",
    "gives you the titles of films sorted by release year, from newest to oldest."
   ]
  },
  {
   "cell_type": "markdown",
   "id": "baa9604a",
   "metadata": {},
   "source": [
    "### Sorting single columns (DESC)\n",
    "\n",
    "To order results in descending order, you can put the keyword DESC after your ORDER BY.\n",
    "\n",
    "For example, to get all the names in the people table, in reverse alphabetical order:\n",
    "\n",
    "ex:\n",
    "\n",
    "SELECT name\n",
    "FROM people\n",
    "ORDER BY name DESC;"
   ]
  },
  {
   "cell_type": "markdown",
   "id": "bd3db6b8",
   "metadata": {},
   "source": [
    "### Sorting multiple columns\n",
    "\n",
    "ORDER BY can also be used to sort on multiple columns. It will sort by the first column specified, then sort by the next, then the next, and so on.\n",
    "\n",
    "ex：\n",
    "\n",
    "SELECT birthdate, name\n",
    "FROM people\n",
    "ORDER BY birthdate, name;\n",
    "\n",
    "sorts on birth dates first (oldest to newest) and then sorts on the names in alphabetical order. The order of columns is important!\n",
    "\n",
    "Try using ORDER BY to sort multiple columns! Remember, to specify multiple columns you separate the column names with a comma."
   ]
  },
  {
   "cell_type": "markdown",
   "id": "36d6cc49",
   "metadata": {},
   "source": [
    "### GROUP BY\n",
    "\n",
    "Now you know how to sort results! Often you'll need to aggregate results.\n",
    "\n",
    "For example, you might want to count the number of male and female employees in your company. Here, what you want is to group all the males together and count them, and group all the females together and count them. In SQL, GROUP BY allows you to group a result by one or more columns, like so:\n",
    "\n",
    "ex:\n",
    "\n",
    "SELECT sex, count(*)\n",
    "FROM employees\n",
    "GROUP BY sex;\n",
    "\n",
    "Commonly, GROUP BY is used with aggregate functions like COUNT() or MAX(). Note that GROUP BY always goes after the FROM clause!\n",
    "\n",
    "A word of warning: SQL will return an error if you try to SELECT a field that is not in your GROUP BY clause without using it to calculate some kind of value about the entire group.\n",
    "\n",
    "Note that you can combine GROUP BY with ORDER BY to group your results, calculate something about them, and then order your results.\n",
    "\n",
    "ex:\n",
    "\n",
    "SELECT sex, count(*)\n",
    "FROM employees\n",
    "GROUP BY sex\n",
    "ORDER BY count DESC;\n",
    "\n",
    "Note also that ORDER BY always goes after GROUP BY."
   ]
  },
  {
   "cell_type": "markdown",
   "id": "edc89e6f",
   "metadata": {},
   "source": [
    "### HAVING a great time\n",
    "\n",
    "In SQL, aggregate functions can't be used in WHERE clauses.\n",
    "\n",
    "For example, the following query is invalid:\n",
    "\n",
    "ex:\n",
    "\n",
    "SELECT release_year\n",
    "FROM films\n",
    "GROUP BY release_year\n",
    "WHERE COUNT(title) > 10;\n",
    "\n",
    "This means that if you want to filter based on the result of an aggregate function, you need another way! That's where the HAVING clause comes in.\n",
    "\n",
    "ex:\n",
    "\n",
    "SELECT release_year\n",
    "FROM films\n",
    "GROUP BY release_year\n",
    "HAVING COUNT(title) > 10;\n",
    "\n",
    "shows only those years in which more than 10 films were released."
   ]
  },
  {
   "cell_type": "markdown",
   "id": "4a2885b9",
   "metadata": {},
   "source": [
    "### A taste of things to come\n",
    "\n",
    "There's one more concept we're going to introduce. You may have noticed that all your results so far have been from just one table, e.g., films or people.\n",
    "\n",
    "In the real world however, you will often want to query multiple tables. For example, what if you want to see the IMDB score for a particular movie?\n",
    "\n",
    "In this case, you'd want to get the ID of the movie from the films table and then use it to get IMDB information from the reviews table. In SQL, this concept is known as a join, and a basic join is shown in the editor to the right.\n",
    "\n",
    "The query in the editor gets the IMDB score for the film To Kill a Mockingbird!\n",
    "\n",
    "ex:\n",
    "\n",
    "SELECT title, imdb_score\n",
    "FROM films\n",
    "JOIN reviews\n",
    "ON films.id = reviews.film_id\n",
    "WHERE title = 'To Kill a Mockingbird';\n",
    "\n",
    "As you can see, joins are incredibly useful and important to understand for anyone using SQL.\n",
    "\n",
    "We have a whole follow-up course dedicated to them called Joining Data in SQL for you to hone your database skills further!"
   ]
  }
 ],
 "metadata": {
  "kernelspec": {
   "display_name": "Python 3",
   "language": "python",
   "name": "python3"
  },
  "language_info": {
   "codemirror_mode": {
    "name": "ipython",
    "version": 3
   },
   "file_extension": ".py",
   "mimetype": "text/x-python",
   "name": "python",
   "nbconvert_exporter": "python",
   "pygments_lexer": "ipython3",
   "version": "3.8.8"
  }
 },
 "nbformat": 4,
 "nbformat_minor": 5
}
